{
 "cells": [
  {
   "cell_type": "code",
   "execution_count": 3,
   "metadata": {},
   "outputs": [],
   "source": [
    "import tensorflow as tf\n",
    "from tensorflow.keras import datasets, layers, models\n",
    "import matplotlib.pyplot as plt\n",
    "import numpy as np\n",
    "from sklearn.model_selection import train_test_split\n",
    "from sklearn.metrics import confusion_matrix, classification_report\n",
    "from tensorflow.keras.optimizers import Adam\n",
    "from tensorflow.keras.preprocessing.image import ImageDataGenerator"
   ]
  },
  {
   "cell_type": "code",
   "execution_count": 4,
   "metadata": {},
   "outputs": [
    {
     "data": {
      "text/plain": [
       "(50000, 32, 32, 3)"
      ]
     },
     "execution_count": 4,
     "metadata": {},
     "output_type": "execute_result"
    }
   ],
   "source": [
    "(X_train, y_train), (X_test,y_test) = datasets.cifar10.load_data()\n",
    "X_train.shape"
   ]
  },
  {
   "cell_type": "code",
   "execution_count": 5,
   "metadata": {},
   "outputs": [
    {
     "data": {
      "text/plain": [
       "(10000, 32, 32, 3)"
      ]
     },
     "execution_count": 5,
     "metadata": {},
     "output_type": "execute_result"
    }
   ],
   "source": [
    "X_test.shape"
   ]
  },
  {
   "cell_type": "code",
   "execution_count": 6,
   "metadata": {},
   "outputs": [
    {
     "data": {
      "text/plain": [
       "(50000, 1)"
      ]
     },
     "execution_count": 6,
     "metadata": {},
     "output_type": "execute_result"
    }
   ],
   "source": [
    "y_train.shape"
   ]
  },
  {
   "cell_type": "code",
   "execution_count": 7,
   "metadata": {},
   "outputs": [
    {
     "data": {
      "text/plain": [
       "array([[6],\n",
       "       [9],\n",
       "       [9],\n",
       "       [4],\n",
       "       [1]], dtype=uint8)"
      ]
     },
     "execution_count": 7,
     "metadata": {},
     "output_type": "execute_result"
    }
   ],
   "source": [
    "y_train[:5]"
   ]
  },
  {
   "cell_type": "code",
   "execution_count": 8,
   "metadata": {},
   "outputs": [
    {
     "data": {
      "text/plain": [
       "array([6, 9, 9, 4, 1], dtype=uint8)"
      ]
     },
     "execution_count": 8,
     "metadata": {},
     "output_type": "execute_result"
    }
   ],
   "source": [
    "y_train = y_train.reshape(-1,)\n",
    "y_train[:5]"
   ]
  },
  {
   "cell_type": "code",
   "execution_count": 9,
   "metadata": {},
   "outputs": [],
   "source": [
    "y_test = y_test.reshape(-1,)"
   ]
  },
  {
   "cell_type": "code",
   "execution_count": 10,
   "metadata": {},
   "outputs": [],
   "source": [
    "classes = [\"airplane\",\"automobile\",\"bird\",\"cat\",\"deer\",\"dog\",\"frog\",\"horse\",\"ship\",\"truck\"]"
   ]
  },
  {
   "cell_type": "code",
   "execution_count": 11,
   "metadata": {},
   "outputs": [],
   "source": [
    "def plot_sample(X, y, index):\n",
    "    plt.figure(figsize = (15,2))\n",
    "    plt.imshow(X[index])\n",
    "    plt.xlabel(classes[y[index]])"
   ]
  },
  {
   "cell_type": "code",
   "execution_count": 12,
   "metadata": {},
   "outputs": [
    {
     "data": {
      "image/png": "[encoded data removed]",
      "text/plain": [
       "<Figure size 1500x200 with 1 Axes>"
      ]
     },
     "metadata": {},
     "output_type": "display_data"
    }
   ],
   "source": [
    "plot_sample(X_train, y_train, 0)"
   ]
  },
  {
   "cell_type": "code",
   "execution_count": 13,
   "metadata": {},
   "outputs": [
    {
     "data": {
      "image/png": "[encoded data removed]",
      "text/plain": [
       "<Figure size 1500x200 with 1 Axes>"
      ]
     },
     "metadata": {},
     "output_type": "display_data"
    }
   ],
   "source": [
    "plot_sample(X_train, y_train, 1)"
   ]
  },
  {
   "cell_type": "code",
   "execution_count": 14,
   "metadata": {},
   "outputs": [],
   "source": [
    "X_train = X_train / 255.0\n",
    "X_test = X_test / 255.0"
   ]
  },
  {
   "cell_type": "code",
   "execution_count": 15,
   "metadata": {},
   "outputs": [
    {
     "name": "stdout",
     "output_type": "stream",
     "text": [
      "Epoch 1/50\n",
      "1250/1250 [==============================] - 30s 23ms/step - loss: 1.5056 - accuracy: 0.4591 - val_loss: 1.2256 - val_accuracy: 0.5667\n",
      "Epoch 2/50\n",
      "1250/1250 [==============================] - 28s 22ms/step - loss: 1.1459 - accuracy: 0.5978 - val_loss: 1.0543 - val_accuracy: 0.6322\n",
      "Epoch 3/50\n",
      "1250/1250 [==============================] - 28s 22ms/step - loss: 1.0085 - accuracy: 0.6476 - val_loss: 1.0467 - val_accuracy: 0.6345\n",
      "Epoch 4/50\n",
      "1250/1250 [==============================] - 27s 22ms/step - loss: 0.9139 - accuracy: 0.6806 - val_loss: 0.9689 - val_accuracy: 0.6620\n",
      "Epoch 5/50\n",
      "1250/1250 [==============================] - 27s 21ms/step - loss: 0.8403 - accuracy: 0.7085 - val_loss: 0.9659 - val_accuracy: 0.6598\n",
      "Epoch 6/50\n",
      "1250/1250 [==============================] - 28s 22ms/step - loss: 0.7856 - accuracy: 0.7269 - val_loss: 0.9209 - val_accuracy: 0.6846\n",
      "Epoch 7/50\n",
      "1250/1250 [==============================] - 26s 21ms/step - loss: 0.7246 - accuracy: 0.7466 - val_loss: 0.9571 - val_accuracy: 0.6768\n",
      "Epoch 8/50\n",
      "1250/1250 [==============================] - 25s 20ms/step - loss: 0.6775 - accuracy: 0.7635 - val_loss: 0.9095 - val_accuracy: 0.6915\n",
      "Epoch 9/50\n",
      "1250/1250 [==============================] - 24s 19ms/step - loss: 0.6257 - accuracy: 0.7841 - val_loss: 0.9435 - val_accuracy: 0.6886\n",
      "Epoch 10/50\n",
      "1250/1250 [==============================] - 24s 19ms/step - loss: 0.5835 - accuracy: 0.7960 - val_loss: 0.9607 - val_accuracy: 0.6868\n",
      "Epoch 11/50\n",
      "1250/1250 [==============================] - 27s 22ms/step - loss: 0.5427 - accuracy: 0.8111 - val_loss: 0.9839 - val_accuracy: 0.6871\n",
      "Epoch 12/50\n",
      "1250/1250 [==============================] - 27s 21ms/step - loss: 0.5050 - accuracy: 0.8228 - val_loss: 1.0223 - val_accuracy: 0.6812\n",
      "Epoch 13/50\n",
      "1250/1250 [==============================] - 27s 21ms/step - loss: 0.4621 - accuracy: 0.8364 - val_loss: 1.0675 - val_accuracy: 0.6841\n",
      "313/313 [==============================] - 2s 7ms/step - loss: 1.0893 - accuracy: 0.6792\n"
     ]
    },
    {
     "data": {
      "text/plain": [
       "[1.0893319845199585, 0.6791999936103821]"
      ]
     },
     "execution_count": 15,
     "metadata": {},
     "output_type": "execute_result"
    }
   ],
   "source": [
    "X_train, X_val, y_train, y_val = train_test_split(X_train, y_train, test_size=0.2, random_state=42)\n",
    "\n",
    "# Define the model architecture\n",
    "cnn = models.Sequential([\n",
    "    layers.Conv2D(filters=32, kernel_size=(3, 3), activation='relu', input_shape=(32, 32, 3)),\n",
    "    layers.MaxPooling2D((2, 2)),\n",
    "    \n",
    "    layers.Conv2D(filters=64, kernel_size=(3, 3), activation='relu'),\n",
    "    layers.MaxPooling2D((2, 2)),\n",
    "    \n",
    "    layers.Flatten(),\n",
    "    layers.Dense(64, activation='relu'),\n",
    "    layers.Dense(10, activation='softmax')\n",
    "])\n",
    "\n",
    "# Define the optimizer with a custom learning rate\n",
    "optimizer = Adam(learning_rate=0.001)\n",
    "es = tf.keras.callbacks.EarlyStopping(\n",
    "    monitor='val_loss',\n",
    "    min_delta=0,\n",
    "    patience=5,\n",
    "    mode='auto',\n",
    "    baseline=None,\n",
    "    restore_best_weights=False,\n",
    "    start_from_epoch=0\n",
    ")\n",
    "cnn.compile(optimizer=optimizer,\n",
    "              loss='sparse_categorical_crossentropy',\n",
    "              metrics=['accuracy'])\n",
    "\n",
    "# Model training with specified batch size and number of epochs\n",
    "history = cnn.fit(X_train, y_train, epochs=50, batch_size=32, validation_data=(X_val, y_val), verbose=1, callbacks=[es])\n",
    "\n",
    "# Evaluate the model on test set\n",
    "cnn.evaluate(X_test, y_test)"
   ]
  },
  {
   "cell_type": "code",
   "execution_count": 16,
   "metadata": {},
   "outputs": [
    {
     "name": "stderr",
     "output_type": "stream",
     "text": [
      "c:\\Users\\Vijay Akash\\AppData\\Local\\Programs\\Python\\Python310\\lib\\site-packages\\keras\\src\\engine\\training.py:3079: UserWarning: You are saving your model as an HDF5 file via `model.save()`. This file format is considered legacy. We recommend using instead the native Keras format, e.g. `model.save('my_model.keras')`.\n",
      "  saving_api.save_model(\n"
     ]
    }
   ],
   "source": [
    "# Save the trained CNN model\n",
    "cnn.save('cnn_model.h5')"
   ]
  },
  {
   "cell_type": "code",
   "execution_count": 17,
   "metadata": {},
   "outputs": [
    {
     "name": "stdout",
     "output_type": "stream",
     "text": [
      "313/313 [==============================] - 2s 7ms/step\n"
     ]
    },
    {
     "data": {
      "text/plain": [
       "array([[3.84173385e-04, 4.12136615e-06, 1.07677896e-02, 8.36137474e-01,\n",
       "        4.36920527e-04, 1.47036538e-01, 4.53303242e-03, 1.22877274e-04,\n",
       "        5.68780059e-04, 8.25468578e-06],\n",
       "       [4.78796528e-06, 6.71039056e-03, 7.65633446e-10, 7.84132759e-09,\n",
       "        7.74426218e-11, 9.83092940e-10, 7.74990697e-11, 1.42024652e-12,\n",
       "        9.93273377e-01, 1.13903725e-05],\n",
       "       [1.10806614e-01, 2.89457161e-02, 1.98350358e-03, 1.26326662e-02,\n",
       "        8.76123493e-04, 3.65966815e-03, 1.23970734e-04, 1.14635375e-04,\n",
       "        8.27732921e-01, 1.31241800e-02],\n",
       "       [9.71144259e-01, 7.93348518e-05, 1.22701330e-03, 1.08113542e-04,\n",
       "        1.04740937e-03, 9.41821509e-06, 5.80450796e-06, 9.91308298e-07,\n",
       "        2.63416637e-02, 3.60380000e-05],\n",
       "       [4.97170127e-09, 2.90893286e-06, 8.15854128e-03, 1.61528569e-02,\n",
       "        9.45246577e-01, 5.35812069e-05, 3.03851925e-02, 3.09592849e-08,\n",
       "        2.98590834e-07, 1.14088516e-08]], dtype=float32)"
      ]
     },
     "execution_count": 17,
     "metadata": {},
     "output_type": "execute_result"
    }
   ],
   "source": [
    "y_pred = cnn.predict(X_test)\n",
    "y_pred[:5]"
   ]
  },
  {
   "cell_type": "code",
   "execution_count": 18,
   "metadata": {},
   "outputs": [
    {
     "name": "stdout",
     "output_type": "stream",
     "text": [
      "313/313 [==============================] - 2s 7ms/step\n",
      "Classification Report: \n",
      "               precision    recall  f1-score   support\n",
      "\n",
      "           0       0.75      0.67      0.71      1000\n",
      "           1       0.85      0.74      0.79      1000\n",
      "           2       0.61      0.54      0.57      1000\n",
      "           3       0.55      0.41      0.47      1000\n",
      "           4       0.57      0.67      0.61      1000\n",
      "           5       0.54      0.66      0.59      1000\n",
      "           6       0.81      0.70      0.75      1000\n",
      "           7       0.66      0.79      0.72      1000\n",
      "           8       0.75      0.84      0.79      1000\n",
      "           9       0.77      0.76      0.76      1000\n",
      "\n",
      "    accuracy                           0.68     10000\n",
      "   macro avg       0.68      0.68      0.68     10000\n",
      "weighted avg       0.68      0.68      0.68     10000\n",
      "\n"
     ]
    }
   ],
   "source": [
    "from sklearn.metrics import confusion_matrix , classification_report\n",
    "import numpy as np\n",
    "y_pred = cnn.predict(X_test)\n",
    "y_pred_classes = [np.argmax(element) for element in y_pred]\n",
    "\n",
    "print(\"Classification Report: \\n\", classification_report(y_test, y_pred_classes))"
   ]
  },
  {
   "cell_type": "code",
   "execution_count": 19,
   "metadata": {},
   "outputs": [
    {
     "data": {
      "text/plain": [
       "[3, 8, 8, 0, 4]"
      ]
     },
     "execution_count": 19,
     "metadata": {},
     "output_type": "execute_result"
    }
   ],
   "source": [
    "y_classes = [np.argmax(element) for element in y_pred]\n",
    "y_classes[:5]"
   ]
  },
  {
   "cell_type": "code",
   "execution_count": 20,
   "metadata": {},
   "outputs": [
    {
     "data": {
      "text/plain": [
       "array([3, 8, 8, 0, 6], dtype=uint8)"
      ]
     },
     "execution_count": 20,
     "metadata": {},
     "output_type": "execute_result"
    }
   ],
   "source": [
    "y_test[:5]"
   ]
  },
  {
   "cell_type": "code",
   "execution_count": 21,
   "metadata": {},
   "outputs": [
    {
     "data": {
      "image/png": "[encoded data removed]",
      "text/plain": [
       "<Figure size 1500x200 with 1 Axes>"
      ]
     },
     "metadata": {},
     "output_type": "display_data"
    }
   ],
   "source": [
    "plot_sample(X_test, y_test,3)"
   ]
  },
  {
   "cell_type": "code",
   "execution_count": 22,
   "metadata": {},
   "outputs": [
    {
     "data": {
      "text/plain": [
       "'airplane'"
      ]
     },
     "execution_count": 22,
     "metadata": {},
     "output_type": "execute_result"
    }
   ],
   "source": [
    "classes[y_classes[3]]"
   ]
  },
  {
   "cell_type": "code",
   "execution_count": 23,
   "metadata": {},
   "outputs": [
    {
     "data": {
      "text/plain": [
       "'airplane'"
      ]
     },
     "execution_count": 23,
     "metadata": {},
     "output_type": "execute_result"
    }
   ],
   "source": [
    "classes[y_classes[3]]"
   ]
  },
  {
   "cell_type": "code",
   "execution_count": 31,
   "metadata": {},
   "outputs": [
    {
     "name": "stdout",
     "output_type": "stream",
     "text": [
      "Epoch 1/40\n",
      "320/320 [==============================] - 16s 48ms/step - loss: 1.9122 - accuracy: 0.3161 - val_loss: 1.6131 - val_accuracy: 0.4262\n",
      "Epoch 2/40\n",
      "320/320 [==============================] - 16s 50ms/step - loss: 1.6023 - accuracy: 0.4369 - val_loss: 1.5044 - val_accuracy: 0.4793\n",
      "Epoch 3/40\n",
      "320/320 [==============================] - 16s 51ms/step - loss: 1.5014 - accuracy: 0.4744 - val_loss: 1.4423 - val_accuracy: 0.5029\n",
      "Epoch 4/40\n",
      "320/320 [==============================] - 14s 45ms/step - loss: 1.4396 - accuracy: 0.5041 - val_loss: 1.4797 - val_accuracy: 0.5029\n",
      "Epoch 5/40\n",
      "320/320 [==============================] - 15s 45ms/step - loss: 1.3968 - accuracy: 0.5212 - val_loss: 1.2916 - val_accuracy: 0.5689\n",
      "Epoch 6/40\n",
      "320/320 [==============================] - 15s 46ms/step - loss: 1.3650 - accuracy: 0.5370 - val_loss: 1.3011 - val_accuracy: 0.5594\n",
      "Epoch 7/40\n",
      "320/320 [==============================] - 15s 46ms/step - loss: 1.3350 - accuracy: 0.5500 - val_loss: 1.3743 - val_accuracy: 0.5336\n",
      "Epoch 8/40\n",
      "320/320 [==============================] - 15s 46ms/step - loss: 1.3040 - accuracy: 0.5612 - val_loss: 1.2182 - val_accuracy: 0.5887\n",
      "Epoch 9/40\n",
      "320/320 [==============================] - 15s 46ms/step - loss: 1.2872 - accuracy: 0.5709 - val_loss: 1.2594 - val_accuracy: 0.5824\n",
      "Epoch 10/40\n",
      "320/320 [==============================] - 15s 47ms/step - loss: 1.2629 - accuracy: 0.5750 - val_loss: 1.1750 - val_accuracy: 0.6172\n",
      "Epoch 11/40\n",
      "320/320 [==============================] - 15s 46ms/step - loss: 1.2461 - accuracy: 0.5845 - val_loss: 1.2243 - val_accuracy: 0.5922\n",
      "Epoch 12/40\n",
      "320/320 [==============================] - 14s 45ms/step - loss: 1.2335 - accuracy: 0.5896 - val_loss: 1.1936 - val_accuracy: 0.6090\n",
      "Epoch 13/40\n",
      "320/320 [==============================] - 15s 46ms/step - loss: 1.2116 - accuracy: 0.6014 - val_loss: 1.1993 - val_accuracy: 0.6031\n",
      "Epoch 14/40\n",
      "320/320 [==============================] - 15s 46ms/step - loss: 1.1955 - accuracy: 0.6042 - val_loss: 1.1199 - val_accuracy: 0.6277\n",
      "Epoch 15/40\n",
      "320/320 [==============================] - 15s 46ms/step - loss: 1.1777 - accuracy: 0.6095 - val_loss: 1.1684 - val_accuracy: 0.6092\n",
      "Epoch 16/40\n",
      "320/320 [==============================] - 15s 47ms/step - loss: 1.1777 - accuracy: 0.6146 - val_loss: 1.1032 - val_accuracy: 0.6439\n",
      "Epoch 17/40\n",
      "320/320 [==============================] - 15s 47ms/step - loss: 1.1663 - accuracy: 0.6157 - val_loss: 1.1123 - val_accuracy: 0.6408\n",
      "Epoch 18/40\n",
      "320/320 [==============================] - 15s 47ms/step - loss: 1.1500 - accuracy: 0.6232 - val_loss: 1.1655 - val_accuracy: 0.6254\n",
      "Epoch 19/40\n",
      "320/320 [==============================] - 15s 46ms/step - loss: 1.1443 - accuracy: 0.6265 - val_loss: 1.0954 - val_accuracy: 0.6500\n",
      "Epoch 20/40\n",
      "320/320 [==============================] - 15s 46ms/step - loss: 1.1314 - accuracy: 0.6321 - val_loss: 1.0627 - val_accuracy: 0.6557\n",
      "Epoch 21/40\n",
      "320/320 [==============================] - 14s 45ms/step - loss: 1.1200 - accuracy: 0.6371 - val_loss: 1.1326 - val_accuracy: 0.6342\n",
      "Epoch 22/40\n",
      "320/320 [==============================] - 15s 47ms/step - loss: 1.1224 - accuracy: 0.6346 - val_loss: 1.0373 - val_accuracy: 0.6662\n",
      "Epoch 23/40\n",
      "320/320 [==============================] - 15s 47ms/step - loss: 1.1023 - accuracy: 0.6471 - val_loss: 1.0516 - val_accuracy: 0.6697\n",
      "Epoch 24/40\n",
      "320/320 [==============================] - 15s 47ms/step - loss: 1.0944 - accuracy: 0.6442 - val_loss: 1.0393 - val_accuracy: 0.6643\n",
      "Epoch 25/40\n",
      "320/320 [==============================] - 15s 47ms/step - loss: 1.0987 - accuracy: 0.6401 - val_loss: 1.0510 - val_accuracy: 0.6609\n",
      "Epoch 26/40\n",
      "320/320 [==============================] - 15s 47ms/step - loss: 1.0805 - accuracy: 0.6488 - val_loss: 1.0392 - val_accuracy: 0.6719\n",
      "Epoch 27/40\n",
      "320/320 [==============================] - 15s 46ms/step - loss: 1.0726 - accuracy: 0.6502 - val_loss: 1.0659 - val_accuracy: 0.6613\n",
      "313/313 [==============================] - 2s 7ms/step - loss: 1.0266 - accuracy: 0.6774\n"
     ]
    },
    {
     "name": "stderr",
     "output_type": "stream",
     "text": [
      "c:\\Users\\Vijay Akash\\AppData\\Local\\Programs\\Python\\Python310\\lib\\site-packages\\keras\\src\\engine\\training.py:3079: UserWarning: You are saving your model as an HDF5 file via `model.save()`. This file format is considered legacy. We recommend using instead the native Keras format, e.g. `model.save('my_model.keras')`.\n",
      "  saving_api.save_model(\n"
     ]
    }
   ],
   "source": [
    "X_train, X_val, y_train, y_val = train_test_split(X_train, y_train, test_size=0.2, random_state=42)\n",
    "\n",
    "# Data Augmentation\n",
    "datagen = ImageDataGenerator(\n",
    "    rotation_range=15,\n",
    "    width_shift_range=0.1,\n",
    "    height_shift_range=0.1,\n",
    "    horizontal_flip=True,\n",
    ")\n",
    "datagen.fit(X_train)\n",
    "\n",
    "# Define the model architecture with regularization\n",
    "cnn = models.Sequential([\n",
    "    layers.Conv2D(filters=32, kernel_size=(3, 3), activation='relu', input_shape=(32, 32, 3)),\n",
    "    layers.MaxPooling2D((2, 2)),\n",
    "    \n",
    "    layers.Conv2D(filters=64, kernel_size=(3, 3), activation='relu'),\n",
    "    layers.MaxPooling2D((2, 2)),\n",
    "    \n",
    "    layers.Flatten(),\n",
    "    layers.Dense(64, activation='relu', kernel_regularizer=tf.keras.regularizers.l2(0.001)),  # L2 regularization added\n",
    "    layers.Dense(10, activation='softmax')\n",
    "])\n",
    "\n",
    "# Define the optimizer with a custom learning rate\n",
    "optimizer = Adam(learning_rate=0.001)\n",
    "\n",
    "cnn.compile(optimizer=optimizer,\n",
    "              loss='sparse_categorical_crossentropy',\n",
    "              metrics=['accuracy'])\n",
    "es = tf.keras.callbacks.EarlyStopping(\n",
    "    monitor='val_loss',\n",
    "    patience=5,\n",
    "    restore_best_weights=True\n",
    ")\n",
    "# Model training with data augmentation\n",
    "history = cnn.fit(datagen.flow(X_train, y_train, batch_size=64),\n",
    "                  epochs=40,\n",
    "                  validation_data=(X_val, y_val),\n",
    "                  verbose=1,\n",
    "                  callbacks=[es])\n",
    "\n",
    "# Evaluate the model on test set\n",
    "cnn.evaluate(X_test, y_test)\n",
    "\n",
    "# Save the trained CNN model\n",
    "cnn.save('cnn_model_optimized.h5')"
   ]
  },
  {
   "cell_type": "code",
   "execution_count": 32,
   "metadata": {},
   "outputs": [
    {
     "name": "stdout",
     "output_type": "stream",
     "text": [
      "313/313 [==============================] - 2s 7ms/step\n"
     ]
    }
   ],
   "source": [
    "# Generate predictions\n",
    "y_pred = cnn.predict(X_test)\n",
    "y_pred_classes = [np.argmax(element) for element in y_pred]"
   ]
  },
  {
   "cell_type": "code",
   "execution_count": 33,
   "metadata": {},
   "outputs": [
    {
     "name": "stdout",
     "output_type": "stream",
     "text": [
      "313/313 [==============================] - 2s 8ms/step\n",
      "Classification Report: \n",
      "               precision    recall  f1-score   support\n",
      "\n",
      "           0       0.66      0.78      0.71      1000\n",
      "           1       0.76      0.84      0.80      1000\n",
      "           2       0.62      0.51      0.56      1000\n",
      "           3       0.55      0.44      0.49      1000\n",
      "           4       0.64      0.58      0.61      1000\n",
      "           5       0.70      0.46      0.56      1000\n",
      "           6       0.70      0.83      0.76      1000\n",
      "           7       0.62      0.81      0.70      1000\n",
      "           8       0.81      0.74      0.78      1000\n",
      "           9       0.71      0.77      0.74      1000\n",
      "\n",
      "    accuracy                           0.68     10000\n",
      "   macro avg       0.68      0.68      0.67     10000\n",
      "weighted avg       0.68      0.68      0.67     10000\n",
      "\n"
     ]
    }
   ],
   "source": [
    "# Generate predictions\n",
    "y_pred = cnn.predict(X_test)\n",
    "y_pred_classes = [np.argmax(element) for element in y_pred]\n",
    "\n",
    "# Print classification report\n",
    "print(\"Classification Report: \\n\", classification_report(y_test, y_pred_classes))"
   ]
  },
  {
   "cell_type": "code",
   "execution_count": 34,
   "metadata": {},
   "outputs": [
    {
     "data": {
      "image/png": "[encoded data removed]",
      "text/plain": [
       "<Figure size 640x480 with 1 Axes>"
      ]
     },
     "metadata": {},
     "output_type": "display_data"
    }
   ],
   "source": [
    "# Plot training and validation accuracy\n",
    "plt.plot(history.history['accuracy'], label='accuracy')\n",
    "plt.plot(history.history['val_accuracy'], label = 'val_accuracy')\n",
    "plt.xlabel('Epoch')\n",
    "plt.ylabel('Accuracy')\n",
    "plt.ylim([0, 1])\n",
    "plt.legend(loc='lower right')\n",
    "plt.show()"
   ]
  },
  {
   "cell_type": "code",
   "execution_count": 35,
   "metadata": {},
   "outputs": [
    {
     "data": {
      "image/png": "[encoded data removed]",
      "text/plain": [
       "<Figure size 640x480 with 1 Axes>"
      ]
     },
     "metadata": {},
     "output_type": "display_data"
    }
   ],
   "source": [
    "# Plot training and validation accuracy\n",
    "plt.plot(history.history['loss'], label='loss')\n",
    "plt.plot(history.history['val_loss'], label = 'val_loss')\n",
    "plt.xlabel('Epoch')\n",
    "plt.ylabel('Loss')\n",
    "plt.legend(loc='lower right')\n",
    "plt.show()"
   ]
  }
 ],
 "metadata": {
  "kernelspec": {
   "display_name": "Python 3",
   "language": "python",
   "name": "python3"
  },
  "language_info": {
   "codemirror_mode": {
    "name": "ipython",
    "version": 3
   },
   "file_extension": ".py",
   "mimetype": "text/x-python",
   "name": "python",
   "nbconvert_exporter": "python",
   "pygments_lexer": "ipython3",
   "version": "3.10.10"
  }
 },
 "nbformat": 4,
 "nbformat_minor": 2
}
